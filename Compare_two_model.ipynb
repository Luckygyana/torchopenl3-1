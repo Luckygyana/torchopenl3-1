{
  "nbformat": 4,
  "nbformat_minor": 0,
  "metadata": {
    "colab": {
      "name": "Compare two model.ipynb",
      "provenance": []
    },
    "kernelspec": {
      "name": "python3",
      "display_name": "Python 3"
    }
  },
  "cells": [
    {
      "cell_type": "code",
      "metadata": {
        "colab": {
          "base_uri": "https://localhost:8080/"
        },
        "id": "sqgeGAGSY3dY",
        "outputId": "d9e8db35-4a71-4b08-bce8-63f129f99344"
      },
      "source": [
        "%tensorflow_version 1.x"
      ],
      "execution_count": 1,
      "outputs": [
        {
          "output_type": "stream",
          "text": [
            "TensorFlow 1.x selected.\n"
          ],
          "name": "stdout"
        }
      ]
    },
    {
      "cell_type": "code",
      "metadata": {
        "id": "6JfgnnjbY5T1"
      },
      "source": [
        "!pip install openl3"
      ],
      "execution_count": null,
      "outputs": []
    },
    {
      "cell_type": "code",
      "metadata": {
        "colab": {
          "base_uri": "https://localhost:8080/"
        },
        "id": "V-yjwn3WZYLf",
        "outputId": "55901672-355d-47bc-8f46-eac450cac642"
      },
      "source": [
        "import openl3\r\n",
        "from keras import Model, Input\r\n",
        "\r\n",
        "import librosa\r\n",
        "import numpy as np"
      ],
      "execution_count": 3,
      "outputs": [
        {
          "output_type": "stream",
          "text": [
            "Using TensorFlow backend.\n"
          ],
          "name": "stderr"
        }
      ]
    },
    {
      "cell_type": "code",
      "metadata": {
        "id": "ujcRgNVCY8TV"
      },
      "source": [
        "model = openl3.models.load_audio_embedding_model(input_repr=\"mel128\", content_type=\"env\", embedding_size=6144)"
      ],
      "execution_count": null,
      "outputs": []
    },
    {
      "cell_type": "code",
      "metadata": {
        "id": "z3jZhCs7ZGpO"
      },
      "source": [
        "inp = model.get_layer('input_1').input\r\n",
        "oups = [\r\n",
        "    model.get_layer('melspectrogram_1').output,\r\n",
        "    model.get_layer('batch_normalization_1').output,\r\n",
        "    model.get_layer('conv2d_1').output,\r\n",
        "    model.get_layer('batch_normalization_2').output,\r\n",
        "    model.get_layer('activation_1').output,\r\n",
        "    model.get_layer('conv2d_2').output,\r\n",
        "    model.get_layer('batch_normalization_3').output,\r\n",
        "    model.get_layer('activation_2').output,\r\n",
        "    model.get_layer('conv2d_3').output,\r\n",
        "    model.get_layer('batch_normalization_4').output,\r\n",
        "    model.get_layer('batch_normalization_8').output,\r\n",
        "    model.get_layer('activation_7').output,\r\n",
        "    model.get_layer('audio_embedding_layer').output,\r\n",
        "    model.get_layer('max_pooling2d_4').output,\r\n",
        "    model.get_layer('flatten_1').output,\r\n",
        "]\r\n",
        "\r\n",
        "model2 = Model(inputs=[inp], outputs=oups)"
      ],
      "execution_count": 5,
      "outputs": []
    },
    {
      "cell_type": "code",
      "metadata": {
        "id": "4BHGy3pNZdMF"
      },
      "source": [
        "audio_np, sr = librosa.load(\r\n",
        "        '/content/drive/MyDrive/Audiomodel/sampleaudio.623702.ogg',\r\n",
        "        sr=48000) "
      ],
      "execution_count": 6,
      "outputs": []
    },
    {
      "cell_type": "code",
      "metadata": {
        "colab": {
          "base_uri": "https://localhost:8080/"
        },
        "id": "XsIecdgNZdOc",
        "outputId": "656ac53a-f6b0-4696-8a2e-26df2f190242"
      },
      "source": [
        "TARGET_SR = 48000\r\n",
        "hop_size=0.1\r\n",
        "hop_len = int(hop_size * TARGET_SR)\r\n",
        "frame_len = TARGET_SR\r\n",
        "def _pad_audio(audio, frame_len, hop_len):\r\n",
        "    \"\"\"Pad audio if necessary so that all samples are processed\"\"\"\r\n",
        "    audio_len = audio.size\r\n",
        "    if audio_len < frame_len:\r\n",
        "        pad_length = frame_len - audio_len\r\n",
        "    else:\r\n",
        "        pad_length = int(np.ceil((audio_len - frame_len)/float(hop_len))) * hop_len \\\r\n",
        "                     - (audio_len - frame_len)\r\n",
        "\r\n",
        "    if pad_length > 0:\r\n",
        "        audio = np.pad(audio, (0, pad_length), mode='constant', constant_values=0)\r\n",
        "\r\n",
        "    return audio\r\n",
        "\r\n",
        "audio = _pad_audio(audio_np, frame_len, hop_len)\r\n",
        "\r\n",
        "n_frames = 1 + int((len(audio) - frame_len) / float(hop_len))\r\n",
        "x = np.lib.stride_tricks.as_strided(audio, shape=(frame_len, n_frames),\r\n",
        "        strides=(audio.itemsize, hop_len * audio.itemsize)).T\r\n",
        "x = x.reshape((x.shape[0], 1, x.shape[-1]))\r\n",
        "print(x.shape)"
      ],
      "execution_count": 7,
      "outputs": [
        {
          "output_type": "stream",
          "text": [
            "(32, 1, 48000)\n"
          ],
          "name": "stdout"
        }
      ]
    },
    {
      "cell_type": "code",
      "metadata": {
        "colab": {
          "base_uri": "https://localhost:8080/"
        },
        "id": "8EyaxRPnZReP",
        "outputId": "8f521e50-362f-4582-c7a2-8381ff30a85e"
      },
      "source": [
        "tensorflow_ouputs = model2.predict(x, verbose=True)"
      ],
      "execution_count": 8,
      "outputs": [
        {
          "output_type": "stream",
          "text": [
            "\r32/32 [==============================] - 11s 347ms/step\n"
          ],
          "name": "stdout"
        }
      ]
    },
    {
      "cell_type": "code",
      "metadata": {
        "id": "vvkPOSFLZs-d"
      },
      "source": [
        "mel_spec_output = tensorflow_ouputs[0]"
      ],
      "execution_count": 9,
      "outputs": []
    },
    {
      "cell_type": "code",
      "metadata": {
        "id": "m95mv4ZJZtB1"
      },
      "source": [
        "import torch\r\n",
        "import torch.nn as nn\r\n",
        "import torch.nn.functional as F\r\n",
        "import math"
      ],
      "execution_count": 10,
      "outputs": []
    },
    {
      "cell_type": "code",
      "metadata": {
        "id": "xxW7jR24ZtE4"
      },
      "source": [
        "def load_weights(weight_file):\r\n",
        "    if weight_file == None:\r\n",
        "        return\r\n",
        "\r\n",
        "    try:\r\n",
        "        weights_dict = np.load(weight_file,allow_pickle=True).item()\r\n",
        "    except:\r\n",
        "        weights_dict = np.load(weight_file, encoding='bytes',allow_pickle=True).item()\r\n",
        "\r\n",
        "    return weights_dict"
      ],
      "execution_count": 11,
      "outputs": []
    },
    {
      "cell_type": "code",
      "metadata": {
        "id": "345cXy6FZtHM"
      },
      "source": [
        "class PytorchOpenl3(nn.Module):\r\n",
        "\r\n",
        "    \r\n",
        "    def __init__(self, weight_file):\r\n",
        "        super(PytorchOpenl3, self).__init__()\r\n",
        "        self.__weights_dict = load_weights(weight_file)\r\n",
        "\r\n",
        "        self.batch_normalization_1 = self.__batch_normalization(2, 'batch_normalization_1', num_features=1, eps=0.001, momentum=0.99)\r\n",
        "        self.conv2d_1 = self.__conv(2, name='conv2d_1', in_channels=1, out_channels=64, kernel_size=(3, 3), stride=(1, 1), groups=1, bias=True)\r\n",
        "        self.batch_normalization_2 = self.__batch_normalization(2, 'batch_normalization_2', num_features=64, eps=0.001, momentum=0.99)\r\n",
        "        self.conv2d_2 = self.__conv(2, name='conv2d_2', in_channels=64, out_channels=64, kernel_size=(3, 3), stride=(1, 1), groups=1, bias=True)\r\n",
        "        self.batch_normalization_3 = self.__batch_normalization(2, 'batch_normalization_3', num_features=64, eps=0.001, momentum=0.99)\r\n",
        "        self.conv2d_3 = self.__conv(2, name='conv2d_3', in_channels=64, out_channels=128, kernel_size=(3, 3), stride=(1, 1), groups=1, bias=True)\r\n",
        "        self.batch_normalization_4 = self.__batch_normalization(2, 'batch_normalization_4', num_features=128, eps=0.001, momentum=0.99)\r\n",
        "        self.conv2d_4 = self.__conv(2, name='conv2d_4', in_channels=128, out_channels=128, kernel_size=(3, 3), stride=(1, 1), groups=1, bias=True)\r\n",
        "        self.batch_normalization_5 = self.__batch_normalization(2, 'batch_normalization_5', num_features=128, eps=0.001, momentum=0.99)\r\n",
        "        self.conv2d_5 = self.__conv(2, name='conv2d_5', in_channels=128, out_channels=256, kernel_size=(3, 3), stride=(1, 1), groups=1, bias=True)\r\n",
        "        self.batch_normalization_6 = self.__batch_normalization(2, 'batch_normalization_6', num_features=256, eps=0.001, momentum=0.99)\r\n",
        "        self.conv2d_6 = self.__conv(2, name='conv2d_6', in_channels=256, out_channels=256, kernel_size=(3, 3), stride=(1, 1), groups=1, bias=True)\r\n",
        "        self.batch_normalization_7 = self.__batch_normalization(2, 'batch_normalization_7', num_features=256, eps=0.001, momentum=0.99)\r\n",
        "        self.conv2d_7 = self.__conv(2, name='conv2d_7', in_channels=256, out_channels=512, kernel_size=(3, 3), stride=(1, 1), groups=1, bias=True)\r\n",
        "        self.batch_normalization_8 = self.__batch_normalization(2, 'batch_normalization_8', num_features=512, eps=0.001, momentum=0.99)\r\n",
        "        self.audio_embedding_layer = self.__conv(2, name='audio_embedding_layer', in_channels=512, out_channels=512, kernel_size=(3, 3), stride=(1, 1), groups=1, bias=True)\r\n",
        "\r\n",
        "    def forward(self, x):\r\n",
        "        batch_normalization_1 = self.batch_normalization_1(x)\r\n",
        "        conv2d_1_pad    = F.pad(batch_normalization_1, (1, 1, 1, 1))\r\n",
        "        conv2d_1        = self.conv2d_1(conv2d_1_pad)\r\n",
        "        batch_normalization_2 = self.batch_normalization_2(conv2d_1)\r\n",
        "        activation_1    = F.relu(batch_normalization_2)\r\n",
        "        conv2d_2_pad    = F.pad(activation_1, (1, 1, 1, 1))\r\n",
        "        conv2d_2        = self.conv2d_2(conv2d_2_pad)\r\n",
        "        batch_normalization_3 = self.batch_normalization_3(conv2d_2)\r\n",
        "        activation_2    = F.relu(batch_normalization_3)\r\n",
        "        max_pooling2d_1 = F.max_pool2d(activation_2, kernel_size=(2, 2), stride=(2, 2), padding=0, ceil_mode=False)\r\n",
        "        conv2d_3_pad    = F.pad(max_pooling2d_1, (1, 1, 1, 1))\r\n",
        "        conv2d_3        = self.conv2d_3(conv2d_3_pad)\r\n",
        "        batch_normalization_4 = self.batch_normalization_4(conv2d_3)\r\n",
        "        activation_3    = F.relu(batch_normalization_4)\r\n",
        "        conv2d_4_pad    = F.pad(activation_3, (1, 1, 1, 1))\r\n",
        "        conv2d_4        = self.conv2d_4(conv2d_4_pad)\r\n",
        "        batch_normalization_5 = self.batch_normalization_5(conv2d_4)\r\n",
        "        activation_4    = F.relu(batch_normalization_5)\r\n",
        "        max_pooling2d_2 = F.max_pool2d(activation_4, kernel_size=(2, 2), stride=(2, 2), padding=0, ceil_mode=False)\r\n",
        "        conv2d_5_pad    = F.pad(max_pooling2d_2, (1, 1, 1, 1))\r\n",
        "        conv2d_5        = self.conv2d_5(conv2d_5_pad)\r\n",
        "        batch_normalization_6 = self.batch_normalization_6(conv2d_5)\r\n",
        "        activation_5    = F.relu(batch_normalization_6)\r\n",
        "        conv2d_6_pad    = F.pad(activation_5, (1, 1, 1, 1))\r\n",
        "        conv2d_6        = self.conv2d_6(conv2d_6_pad)\r\n",
        "        batch_normalization_7 = self.batch_normalization_7(conv2d_6)\r\n",
        "        activation_6    = F.relu(batch_normalization_7)\r\n",
        "        max_pooling2d_3 = F.max_pool2d(activation_6, kernel_size=(2, 2), stride=(2, 2), padding=0, ceil_mode=False)\r\n",
        "        conv2d_7_pad    = F.pad(max_pooling2d_3, (1, 1, 1, 1))\r\n",
        "        conv2d_7        = self.conv2d_7(conv2d_7_pad)\r\n",
        "        batch_normalization_8 = self.batch_normalization_8(conv2d_7)\r\n",
        "        activation_7    = F.relu(batch_normalization_8)\r\n",
        "        audio_embedding_layer_pad = F.pad(activation_7, (1, 1, 1, 1))\r\n",
        "        audio_embedding_layer = self.audio_embedding_layer(audio_embedding_layer_pad)\r\n",
        "        max_pooling2d_4 = F.max_pool2d(audio_embedding_layer, kernel_size=(4, 8), stride=(4, 8), padding=0, ceil_mode=False)\r\n",
        "        return max_pooling2d_4\r\n",
        "\r\n",
        "\r\n",
        "    def __batch_normalization(self, dim, name, **kwargs):\r\n",
        "        if   dim == 0 or dim == 1:  layer = nn.BatchNorm1d(**kwargs)\r\n",
        "        elif dim == 2:  layer = nn.BatchNorm2d(**kwargs)\r\n",
        "        elif dim == 3:  layer = nn.BatchNorm3d(**kwargs)\r\n",
        "        else:           raise NotImplementedError()\r\n",
        "\r\n",
        "        if 'scale' in self.__weights_dict[name]:\r\n",
        "            layer.state_dict()['weight'].copy_(torch.from_numpy(self.__weights_dict[name]['scale']))\r\n",
        "        else:\r\n",
        "            layer.weight.data.fill_(1)\r\n",
        "\r\n",
        "        if 'bias' in self.__weights_dict[name]:\r\n",
        "            layer.state_dict()['bias'].copy_(torch.from_numpy(self.__weights_dict[name]['bias']))\r\n",
        "        else:\r\n",
        "            layer.bias.data.fill_(0)\r\n",
        "\r\n",
        "        layer.state_dict()['running_mean'].copy_(torch.from_numpy(self.__weights_dict[name]['mean']))\r\n",
        "        layer.state_dict()['running_var'].copy_(torch.from_numpy(self.__weights_dict[name]['var']))\r\n",
        "        return layer\r\n",
        "\r\n",
        "    def __conv(self, dim, name, **kwargs):\r\n",
        "        if   dim == 1:  layer = nn.Conv1d(**kwargs)\r\n",
        "        elif dim == 2:  layer = nn.Conv2d(**kwargs)\r\n",
        "        elif dim == 3:  layer = nn.Conv3d(**kwargs)\r\n",
        "        else:           raise NotImplementedError()\r\n",
        "\r\n",
        "        layer.state_dict()['weight'].copy_(torch.from_numpy(self.__weights_dict[name]['weights']))\r\n",
        "        if 'bias' in self.__weights_dict[name]:\r\n",
        "            layer.state_dict()['bias'].copy_(torch.from_numpy(self.__weights_dict[name]['bias']))\r\n",
        "        return layer"
      ],
      "execution_count": 14,
      "outputs": []
    },
    {
      "cell_type": "code",
      "metadata": {
        "id": "z1oNZRDNZ7v_"
      },
      "source": [
        "model = PytorchOpenl3('/content/drive/MyDrive/Audiomodel/openl3_no_mel_layer_pytorch_weights')"
      ],
      "execution_count": 15,
      "outputs": []
    },
    {
      "cell_type": "code",
      "metadata": {
        "id": "Xuxeke5zZ_xL"
      },
      "source": [
        "with torch.set_grad_enabled(False):\r\n",
        "    model = model.eval()\r\n",
        "    pytorch_output = model(\r\n",
        "        torch.Tensor(mel_spec_output.swapaxes(2, 3).swapaxes(1, 2))\r\n",
        "    )\r\n",
        "    pytorch_output = pytorch_output.detach().numpy()"
      ],
      "execution_count": 16,
      "outputs": []
    },
    {
      "cell_type": "code",
      "metadata": {
        "id": "wVQIZP1qZ_zu"
      },
      "source": [
        "tensorflow_ouput = tensorflow_ouputs[-2].swapaxes(2, 3).swapaxes(1, 2)"
      ],
      "execution_count": 18,
      "outputs": []
    },
    {
      "cell_type": "code",
      "metadata": {
        "colab": {
          "base_uri": "https://localhost:8080/"
        },
        "id": "wmnHOafMdRbj",
        "outputId": "043ea361-62d8-4e60-d234-897a57b669f3"
      },
      "source": [
        "tensorflow_ouput.shape,pytorch_output.shape"
      ],
      "execution_count": 19,
      "outputs": [
        {
          "output_type": "execute_result",
          "data": {
            "text/plain": [
              "((32, 512, 4, 3), (32, 512, 4, 3))"
            ]
          },
          "metadata": {
            "tags": []
          },
          "execution_count": 19
        }
      ]
    },
    {
      "cell_type": "code",
      "metadata": {
        "colab": {
          "base_uri": "https://localhost:8080/",
          "height": 285
        },
        "id": "reAXBlDRdXy8",
        "outputId": "09d8aec9-7d4d-44db-aebd-a0832d3c52ce"
      },
      "source": [
        "import matplotlib.pyplot as plt\r\n",
        "%matplotlib inline\r\n",
        "plt.scatter(tensorflow_ouput[0, :, 0, 0], pytorch_output[0, :, 0, 0])"
      ],
      "execution_count": 20,
      "outputs": [
        {
          "output_type": "execute_result",
          "data": {
            "text/plain": [
              "<matplotlib.collections.PathCollection at 0x7f9e5c1d2190>"
            ]
          },
          "metadata": {
            "tags": []
          },
          "execution_count": 20
        },
        {
          "output_type": "display_data",
          "data": {
            "image/png": "[encoded data removed]",
            "text/plain": [
              "<Figure size 432x288 with 1 Axes>"
            ]
          },
          "metadata": {
            "tags": [],
            "needs_background": "light"
          }
        }
      ]
    },
    {
      "cell_type": "code",
      "metadata": {
        "colab": {
          "base_uri": "https://localhost:8080/"
        },
        "id": "iV6dlbEsdhqG",
        "outputId": "02d7cc6a-2162-4423-f395-a5ab8fe13a8a"
      },
      "source": [
        "np.mean(np.abs(tensorflow_ouput.reshape(32,-1) - pytorch_output.reshape(32,-1)))"
      ],
      "execution_count": 21,
      "outputs": [
        {
          "output_type": "execute_result",
          "data": {
            "text/plain": [
              "5.2225636e-07"
            ]
          },
          "metadata": {
            "tags": []
          },
          "execution_count": 21
        }
      ]
    }
  ]
}